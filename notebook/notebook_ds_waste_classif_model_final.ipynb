{
 "cells": [
  {
   "cell_type": "markdown",
   "metadata": {
    "id": "74ZM2VcjJPjG"
   },
   "source": [
    "#### Loading libraries"
   ]
  },
  {
   "cell_type": "code",
   "execution_count": 1,
   "metadata": {
    "id": "FO0sAjKbJPjO"
   },
   "outputs": [],
   "source": [
    "# import Python packages and libraries\n",
    "# provides functionality to train neural network\n",
    "import tensorflow as tf\n",
    "import pandas as pd\n",
    "# provides mathematical functions to operate on arrays and matrices\n",
    "import numpy as np\n",
    "import random\n",
    "# library to interact with operating system\n",
    "import os\n",
    "import glob\n",
    "from os import listdir\n",
    "from os.path import isfile, join\n",
    "# library for generating plots\n",
    "import matplotlib.pyplot as plt\n",
    "# library to use data augmentation\n",
    "from tensorflow.keras.preprocessing.image import ImageDataGenerator\n",
    "from tensorflow.keras import optimizers\n",
    "from keras.preprocessing.image import img_to_array\n",
    "from keras.preprocessing.image import load_img\n",
    "from keras.preprocessing.image import save_img\n",
    "# for checking results\n",
    "import seaborn as sns\n",
    "from sklearn.metrics import classification_report\n",
    "from sklearn.metrics import confusion_matrix\n",
    "import cv2\n",
    "from sklearn.utils import shuffle\n",
    "from sklearn.model_selection import train_test_split \n",
    "import aux_functions as aux_fun\n",
    "%load_ext autoreload\n",
    "%autoreload 2"
   ]
  },
  {
   "cell_type": "code",
   "execution_count": 2,
   "metadata": {
    "id": "c3BZV76VIGIn"
   },
   "outputs": [],
   "source": [
    "import random as python_random\n",
    "\n",
    "os.environ['TF_DETERMINISTIC_OPS'] = '1'\n",
    "\n",
    "# The below is necessary for starting Numpy generated random numbers\n",
    "# in a well-defined initial state.\n",
    "np.random.seed(42)\n",
    "\n",
    "# The below is necessary for starting core Python generated random numbers\n",
    "# in a well-defined state.\n",
    "python_random.seed(12345)\n",
    "\n",
    "# Force TensorFlow to use single thread.\n",
    "# Multiple threads are a potential source of non-reproducible results.\n",
    "# For further details, see: https://stackoverflow.com/questions/42022950/\n",
    "\n",
    "# The below set_seed() will make random number generation\n",
    "# in the TensorFlow backend have a well-defined initial state.\n",
    "# For further details, see:\n",
    "# https://www.tensorflow.org/api_docs/python/tf/random/set_seed\n",
    "tf.random.set_seed(1234)"
   ]
  },
  {
   "cell_type": "markdown",
   "metadata": {
    "id": "BsoBXMeCJPjQ"
   },
   "source": [
    "### Exploratory analysis"
   ]
  },
  {
   "cell_type": "code",
   "execution_count": 2,
   "metadata": {
    "id": "MNduXuS1JPjQ"
   },
   "outputs": [],
   "source": [
    "# Image size\n",
    "img_width, img_height =  224, 224\n",
    "batch_size_n = 32"
   ]
  },
  {
   "cell_type": "code",
   "execution_count": 3,
   "metadata": {
    "id": "USakQa_kJPjQ"
   },
   "outputs": [],
   "source": [
    "# list containing x axis labels\n",
    "class_names = ['trash', 'glass','metal','paper','plastic','cardboard']\n",
    "n_classes = len(class_names)"
   ]
  },
  {
   "cell_type": "code",
   "execution_count": 4,
   "metadata": {
    "id": "L8eNET7VJPjS"
   },
   "outputs": [],
   "source": [
    "# The path to the dataset\n",
    "base_dir = './dataset/waste-img'\n",
    "\n",
    "# Directories\n",
    "train_dir = os.path.join(base_dir, 'train')\n",
    "test_dir = os.path.join(base_dir, 'test')"
   ]
  },
  {
   "cell_type": "code",
   "execution_count": 5,
   "metadata": {
    "id": "zcpbS-GnJPjS"
   },
   "outputs": [
    {
     "name": "stdout",
     "output_type": "stream",
     "text": [
      "====== Number of images per directory and class ======\n",
      "FOLDER: ./dataset/waste-img/train\n",
      "trash - 357\n",
      "glass - 351\n",
      "metal - 348\n",
      "paper - 494\n",
      "plastic - 370\n",
      "cardboard - 342\n",
      "====================================================\n",
      "FOLDER: ./dataset/waste-img/test\n",
      "trash - 20\n",
      "glass - 150\n",
      "metal - 62\n",
      "paper - 100\n",
      "plastic - 112\n",
      "cardboard - 61\n",
      "====================================================\n"
     ]
    }
   ],
   "source": [
    "# Print number of images per directory and class\n",
    "aux_fun.print_count_from_folders(train_dir,test_dir,class_names)"
   ]
  },
  {
   "cell_type": "markdown",
   "metadata": {
    "id": "YEqV1Y_nJPjW"
   },
   "source": [
    "#### Load datasets"
   ]
  },
  {
   "cell_type": "code",
   "execution_count": 6,
   "metadata": {
    "id": "jZtwF770YVDA"
   },
   "outputs": [],
   "source": [
    "train_array = aux_fun.create_data_from_folder(train_dir,img_width,img_height,class_names)\n",
    "test_array = aux_fun.create_data_from_folder(test_dir,img_width,img_height,class_names)"
   ]
  },
  {
   "cell_type": "code",
   "execution_count": 7,
   "metadata": {
    "colab": {
     "base_uri": "https://localhost:8080/"
    },
    "id": "mQ2gvtOSYHc3",
    "outputId": "00381d6b-38e7-493d-f0ca-690f9a63c5df"
   },
   "outputs": [
    {
     "name": "stdout",
     "output_type": "stream",
     "text": [
      "2262 505\n"
     ]
    }
   ],
   "source": [
    "print(len(train_array),len(test_array))"
   ]
  },
  {
   "cell_type": "markdown",
   "metadata": {
    "id": "v2Qf-rWrYdIK"
   },
   "source": [
    "Separate images and labels into two different arrays"
   ]
  },
  {
   "cell_type": "code",
   "execution_count": 8,
   "metadata": {
    "colab": {
     "base_uri": "https://localhost:8080/"
    },
    "id": "tFGzvevFZD70",
    "outputId": "8e287164-adbd-4c16-c959-339e44325890"
   },
   "outputs": [
    {
     "name": "stdout",
     "output_type": "stream",
     "text": [
      "(2262, 224, 224, 3) (2262,)\n"
     ]
    }
   ],
   "source": [
    "np.random.shuffle(train_array)\n",
    "x_train, x_train_lbls = aux_fun.separate_imgs_labels(train_array)\n",
    "x_train = x_train/255.0\n",
    "print(x_train.shape, x_train_lbls.shape)"
   ]
  },
  {
   "cell_type": "markdown",
   "metadata": {},
   "source": [
    "Create validation dataset"
   ]
  },
  {
   "cell_type": "code",
   "execution_count": 9,
   "metadata": {
    "id": "Fiw6vVyUMlUd"
   },
   "outputs": [],
   "source": [
    "train_imgs, val_imgs, train_labels, val_labels = train_test_split(x_train,x_train_lbls, test_size=0.2, random_state=42)"
   ]
  },
  {
   "cell_type": "code",
   "execution_count": 10,
   "metadata": {
    "colab": {
     "base_uri": "https://localhost:8080/"
    },
    "id": "bbN986MIZdoU",
    "outputId": "7f6b6b4a-1858-4872-ebf9-2482f6fc7218"
   },
   "outputs": [
    {
     "name": "stdout",
     "output_type": "stream",
     "text": [
      "(505, 224, 224, 3) (505,)\n"
     ]
    }
   ],
   "source": [
    "np.random.shuffle(test_array)\n",
    "test_imgs, test_labels = aux_fun.separate_imgs_labels(test_array)\n",
    "test_imgs = test_imgs/255.0 # normalize\n",
    "print(test_imgs.shape, test_labels.shape)"
   ]
  },
  {
   "cell_type": "markdown",
   "metadata": {},
   "source": [
    "Use OneHotEncoder for the labels"
   ]
  },
  {
   "cell_type": "code",
   "execution_count": 11,
   "metadata": {
    "colab": {
     "base_uri": "https://localhost:8080/"
    },
    "id": "EwImxO_cc4sX",
    "outputId": "5b757787-9edf-4fd9-fd23-bb93998c7b5d"
   },
   "outputs": [
    {
     "name": "stdout",
     "output_type": "stream",
     "text": [
      "(1809, 6) (505, 6) (453, 6)\n"
     ]
    }
   ],
   "source": [
    "from sklearn.preprocessing import OneHotEncoder\n",
    "onehotencoder = OneHotEncoder()\n",
    "train_labels_cat = onehotencoder.fit_transform(train_labels.reshape(-1,1)).toarray()\n",
    "test_labels_cat = onehotencoder.fit_transform(test_labels.reshape(-1,1)).toarray()\n",
    "val_labels_cat = onehotencoder.fit_transform(val_labels.reshape(-1,1)).toarray()\n",
    "print(train_labels_cat.shape, test_labels_cat.shape,val_labels_cat.shape)"
   ]
  },
  {
   "cell_type": "markdown",
   "metadata": {},
   "source": [
    "Applying data augmentation on the training dataset"
   ]
  },
  {
   "cell_type": "code",
   "execution_count": 12,
   "metadata": {
    "id": "qxL_QBpLZp--"
   },
   "outputs": [],
   "source": [
    "train_datagen = ImageDataGenerator(rotation_range=30,\n",
    "                                   width_shift_range=0.1,\n",
    "                                   height_shift_range=0.1,\n",
    "                                   zoom_range=0.1,\n",
    "                                   shear_range=0.1,\n",
    "                                   vertical_flip=True,\n",
    "                                   horizontal_flip=True)\n",
    "train_datagen.fit(train_imgs,seed=123)"
   ]
  },
  {
   "cell_type": "code",
   "execution_count": 13,
   "metadata": {
    "colab": {
     "base_uri": "https://localhost:8080/"
    },
    "id": "MZt6TJb3aCuQ",
    "outputId": "78621cb4-96f0-4653-e0cd-61fd8b811b55"
   },
   "outputs": [
    {
     "data": {
      "text/plain": [
       "(505, 224, 224, 3)"
      ]
     },
     "execution_count": 13,
     "metadata": {},
     "output_type": "execute_result"
    }
   ],
   "source": [
    "train_imgs.shape\n",
    "test_imgs.shape"
   ]
  },
  {
   "cell_type": "markdown",
   "metadata": {
    "id": "2gfPfhbSJPjX"
   },
   "source": [
    "### Data augmentation"
   ]
  },
  {
   "cell_type": "markdown",
   "metadata": {},
   "source": [
    "Applying data augmentation to create a new subset of samples for class \"Trash\""
   ]
  },
  {
   "cell_type": "code",
   "execution_count": 24,
   "metadata": {
    "id": "i8hdL9qoJPjb"
   },
   "outputs": [],
   "source": [
    "# Uncomment to generate new samples for a class, \"trash\" in this case\n",
    "#class_path = base_dir + '/train/trash/'\n",
    "#img_filenames = [f for f in listdir(class_path) if isfile(join(class_path, f))]\n",
    "#samples = 40\n",
    "#aux_fun.iterate_images_for_transformation(class_path,img_filenames,samples)\n",
    "\n",
    "# Uncomment to check the list of images created\n",
    "#aux_fun.list_transformed_images(class_path) # add delete=True to remove all created pics"
   ]
  },
  {
   "cell_type": "markdown",
   "metadata": {
    "id": "vD4oOc2wJy9N"
   },
   "source": [
    "### Transfer learning"
   ]
  },
  {
   "cell_type": "code",
   "execution_count": 25,
   "metadata": {
    "id": "-DFNmS2bJ4Az"
   },
   "outputs": [],
   "source": [
    "from tensorflow.keras.applications import ResNet50V2\n",
    "\n",
    "img_width_res, img_height_res = 224,224\n",
    "\n",
    "base_model = ResNet50V2(include_top=False,\n",
    "                        weights='imagenet',\n",
    "                        input_shape=(img_width_res, img_height_res, 3))"
   ]
  },
  {
   "cell_type": "markdown",
   "metadata": {
    "id": "lWGl6YXBevaO"
   },
   "source": [
    "Fine tuning"
   ]
  },
  {
   "cell_type": "code",
   "execution_count": 26,
   "metadata": {
    "id": "eQEb9LwaKdsC"
   },
   "outputs": [],
   "source": [
    "base_model.trainable=True"
   ]
  },
  {
   "cell_type": "code",
   "execution_count": 27,
   "metadata": {
    "colab": {
     "base_uri": "https://localhost:8080/"
    },
    "id": "tpdSRJShB4_l",
    "outputId": "c67fe0eb-0562-4587-b9a4-8d840f2e8d0e"
   },
   "outputs": [
    {
     "name": "stdout",
     "output_type": "stream",
     "text": [
      "Number of layers in the base model:  190\n"
     ]
    }
   ],
   "source": [
    "print('Number of layers in the base model: ', len(base_model.layers))"
   ]
  },
  {
   "cell_type": "code",
   "execution_count": 28,
   "metadata": {
    "id": "NScvUGHjCFUH"
   },
   "outputs": [],
   "source": [
    "fine_tune_at = 180\n",
    "for layer in base_model.layers[:fine_tune_at]:\n",
    "  layer.trainable = False"
   ]
  },
  {
   "cell_type": "code",
   "execution_count": 29,
   "metadata": {
    "id": "yxmf8bkNLQJM"
   },
   "outputs": [],
   "source": [
    "inputs = tf.keras.Input(shape=(img_width_res,img_height_res,3))\n",
    "x = base_model(inputs, training=False)\n",
    "x = tf.keras.layers.GlobalAveragePooling2D()(x)\n",
    "\n",
    "x = tf.keras.layers.Dense(24, kernel_regularizer=tf.keras.regularizers.l2(0.00018), activation='relu')(x)\n",
    "x = tf.keras.layers.Dropout(0.3)(x)\n",
    "outputs = tf.keras.layers.Dense(6, activation='softmax')(x)\n",
    "model_tl = tf.keras.Model(inputs,outputs)"
   ]
  },
  {
   "cell_type": "code",
   "execution_count": 30,
   "metadata": {
    "colab": {
     "base_uri": "https://localhost:8080/"
    },
    "id": "idHoImYWLstw",
    "outputId": "726016cb-e317-4316-f051-58ac5fd1d553"
   },
   "outputs": [
    {
     "name": "stdout",
     "output_type": "stream",
     "text": [
      "Model: \"model\"\n",
      "_________________________________________________________________\n",
      "Layer (type)                 Output Shape              Param #   \n",
      "=================================================================\n",
      "input_2 (InputLayer)         [(None, 224, 224, 3)]     0         \n",
      "_________________________________________________________________\n",
      "resnet50v2 (Functional)      (None, 7, 7, 2048)        23564800  \n",
      "_________________________________________________________________\n",
      "global_average_pooling2d (Gl (None, 2048)              0         \n",
      "_________________________________________________________________\n",
      "dense (Dense)                (None, 24)                49176     \n",
      "_________________________________________________________________\n",
      "dropout (Dropout)            (None, 24)                0         \n",
      "_________________________________________________________________\n",
      "dense_1 (Dense)              (None, 6)                 150       \n",
      "=================================================================\n",
      "Total params: 23,614,126\n",
      "Trainable params: 3,465,390\n",
      "Non-trainable params: 20,148,736\n",
      "_________________________________________________________________\n"
     ]
    }
   ],
   "source": [
    "model_tl.summary()"
   ]
  },
  {
   "cell_type": "code",
   "execution_count": 31,
   "metadata": {
    "id": "_u0OKnANLxz_"
   },
   "outputs": [],
   "source": [
    "sgd = tf.keras.optimizers.SGD(learning_rate=1e-4, decay=1e-6, momentum=0.9, nesterov=True)\n",
    "model_tl.compile(optimizer=sgd, loss=\"categorical_crossentropy\", metrics=[tf.metrics.categorical_accuracy])"
   ]
  },
  {
   "cell_type": "markdown",
   "metadata": {
    "id": "smTxf6oze0gR"
   },
   "source": [
    "Adding callbacks"
   ]
  },
  {
   "cell_type": "code",
   "execution_count": 32,
   "metadata": {
    "id": "AhegWWifL2fr"
   },
   "outputs": [],
   "source": [
    "callback_v5= tf.keras.callbacks.EarlyStopping(monitor='val_loss', patience=5)"
   ]
  },
  {
   "cell_type": "code",
   "execution_count": 33,
   "metadata": {
    "id": "P7MTI5cKbJwl"
   },
   "outputs": [],
   "source": [
    "callback_chp = tf.keras.callbacks.ModelCheckpoint(filepath= gdrive_dir+\"/checkpoint/\" , \n",
    "    monitor='val_loss', save_best_only= True, save_weights_only= True)"
   ]
  },
  {
   "cell_type": "code",
   "execution_count": 34,
   "metadata": {
    "colab": {
     "base_uri": "https://localhost:8080/"
    },
    "id": "YnGgmXmSL5Au",
    "outputId": "2da7ff15-9700-4fcd-8b79-d30f4d4e077b"
   },
   "outputs": [
    {
     "name": "stdout",
     "output_type": "stream",
     "text": [
      "Epoch 1/50\n",
      "57/57 [==============================] - 57s 391ms/step - loss: 1.8686 - categorical_accuracy: 0.2626 - val_loss: 1.4932 - val_categorical_accuracy: 0.4172\n",
      "Epoch 2/50\n",
      "57/57 [==============================] - 20s 355ms/step - loss: 1.4875 - categorical_accuracy: 0.4085 - val_loss: 1.2883 - val_categorical_accuracy: 0.5121\n",
      "Epoch 3/50\n",
      "57/57 [==============================] - 20s 358ms/step - loss: 1.3172 - categorical_accuracy: 0.4704 - val_loss: 1.1575 - val_categorical_accuracy: 0.5320\n",
      "Epoch 4/50\n",
      "57/57 [==============================] - 21s 363ms/step - loss: 1.2381 - categorical_accuracy: 0.5080 - val_loss: 1.0603 - val_categorical_accuracy: 0.5894\n",
      "Epoch 5/50\n",
      "57/57 [==============================] - 21s 363ms/step - loss: 1.1318 - categorical_accuracy: 0.5572 - val_loss: 0.9790 - val_categorical_accuracy: 0.6490\n",
      "Epoch 6/50\n",
      "57/57 [==============================] - 21s 361ms/step - loss: 1.0803 - categorical_accuracy: 0.5760 - val_loss: 0.9240 - val_categorical_accuracy: 0.6446\n",
      "Epoch 7/50\n",
      "57/57 [==============================] - 20s 359ms/step - loss: 1.0446 - categorical_accuracy: 0.5909 - val_loss: 0.8667 - val_categorical_accuracy: 0.6909\n",
      "Epoch 8/50\n",
      "57/57 [==============================] - 21s 364ms/step - loss: 0.9628 - categorical_accuracy: 0.6318 - val_loss: 0.8227 - val_categorical_accuracy: 0.7174\n",
      "Epoch 9/50\n",
      "57/57 [==============================] - 21s 365ms/step - loss: 0.9257 - categorical_accuracy: 0.6501 - val_loss: 0.7939 - val_categorical_accuracy: 0.7042\n",
      "Epoch 10/50\n",
      "57/57 [==============================] - 21s 363ms/step - loss: 0.9242 - categorical_accuracy: 0.6446 - val_loss: 0.7709 - val_categorical_accuracy: 0.7241\n",
      "Epoch 11/50\n",
      "57/57 [==============================] - 21s 362ms/step - loss: 0.8796 - categorical_accuracy: 0.6711 - val_loss: 0.7436 - val_categorical_accuracy: 0.7219\n",
      "Epoch 12/50\n",
      "57/57 [==============================] - 21s 360ms/step - loss: 0.8424 - categorical_accuracy: 0.6744 - val_loss: 0.7204 - val_categorical_accuracy: 0.7417\n",
      "Epoch 13/50\n",
      "57/57 [==============================] - 21s 360ms/step - loss: 0.8364 - categorical_accuracy: 0.6888 - val_loss: 0.7021 - val_categorical_accuracy: 0.7461\n",
      "Epoch 14/50\n",
      "57/57 [==============================] - 21s 362ms/step - loss: 0.7922 - categorical_accuracy: 0.6866 - val_loss: 0.6754 - val_categorical_accuracy: 0.7616\n",
      "Epoch 15/50\n",
      "57/57 [==============================] - 21s 360ms/step - loss: 0.7891 - categorical_accuracy: 0.6910 - val_loss: 0.6567 - val_categorical_accuracy: 0.7682\n",
      "Epoch 16/50\n",
      "57/57 [==============================] - 21s 362ms/step - loss: 0.7747 - categorical_accuracy: 0.6982 - val_loss: 0.6410 - val_categorical_accuracy: 0.7770\n",
      "Epoch 17/50\n",
      "57/57 [==============================] - 20s 359ms/step - loss: 0.7412 - categorical_accuracy: 0.7247 - val_loss: 0.6273 - val_categorical_accuracy: 0.7770\n",
      "Epoch 18/50\n",
      "57/57 [==============================] - 21s 363ms/step - loss: 0.7348 - categorical_accuracy: 0.7225 - val_loss: 0.6172 - val_categorical_accuracy: 0.7859\n",
      "Epoch 19/50\n",
      "57/57 [==============================] - 21s 361ms/step - loss: 0.7289 - categorical_accuracy: 0.7330 - val_loss: 0.6130 - val_categorical_accuracy: 0.7837\n",
      "Epoch 20/50\n",
      "57/57 [==============================] - 21s 361ms/step - loss: 0.7057 - categorical_accuracy: 0.7385 - val_loss: 0.5866 - val_categorical_accuracy: 0.7925\n",
      "Epoch 21/50\n",
      "57/57 [==============================] - 20s 357ms/step - loss: 0.7321 - categorical_accuracy: 0.7330 - val_loss: 0.5861 - val_categorical_accuracy: 0.7947\n",
      "Epoch 22/50\n",
      "57/57 [==============================] - 21s 362ms/step - loss: 0.6892 - categorical_accuracy: 0.7457 - val_loss: 0.5745 - val_categorical_accuracy: 0.7991\n",
      "Epoch 23/50\n",
      "57/57 [==============================] - 21s 363ms/step - loss: 0.6669 - categorical_accuracy: 0.7496 - val_loss: 0.5599 - val_categorical_accuracy: 0.8146\n",
      "Epoch 24/50\n",
      "57/57 [==============================] - 20s 358ms/step - loss: 0.6777 - categorical_accuracy: 0.7562 - val_loss: 0.5576 - val_categorical_accuracy: 0.7969\n",
      "Epoch 25/50\n",
      "57/57 [==============================] - 20s 359ms/step - loss: 0.6543 - categorical_accuracy: 0.7673 - val_loss: 0.5514 - val_categorical_accuracy: 0.8035\n",
      "Epoch 26/50\n",
      "57/57 [==============================] - 21s 360ms/step - loss: 0.6214 - categorical_accuracy: 0.7811 - val_loss: 0.5433 - val_categorical_accuracy: 0.8234\n",
      "Epoch 27/50\n",
      "57/57 [==============================] - 21s 359ms/step - loss: 0.6489 - categorical_accuracy: 0.7523 - val_loss: 0.5258 - val_categorical_accuracy: 0.8212\n",
      "Epoch 28/50\n",
      "57/57 [==============================] - 20s 358ms/step - loss: 0.6133 - categorical_accuracy: 0.7877 - val_loss: 0.5351 - val_categorical_accuracy: 0.8013\n",
      "Epoch 29/50\n",
      "57/57 [==============================] - 20s 350ms/step - loss: 0.6192 - categorical_accuracy: 0.7590 - val_loss: 0.5271 - val_categorical_accuracy: 0.8057\n",
      "Epoch 30/50\n",
      "57/57 [==============================] - 20s 351ms/step - loss: 0.5971 - categorical_accuracy: 0.7861 - val_loss: 0.5113 - val_categorical_accuracy: 0.8256\n",
      "Epoch 31/50\n",
      "57/57 [==============================] - 21s 361ms/step - loss: 0.6019 - categorical_accuracy: 0.7805 - val_loss: 0.5182 - val_categorical_accuracy: 0.8212\n",
      "Epoch 32/50\n",
      "57/57 [==============================] - 20s 350ms/step - loss: 0.6015 - categorical_accuracy: 0.7877 - val_loss: 0.5037 - val_categorical_accuracy: 0.8234\n",
      "Epoch 33/50\n",
      "57/57 [==============================] - 20s 358ms/step - loss: 0.5617 - categorical_accuracy: 0.7910 - val_loss: 0.5308 - val_categorical_accuracy: 0.8035\n",
      "Epoch 34/50\n",
      "57/57 [==============================] - 20s 351ms/step - loss: 0.5678 - categorical_accuracy: 0.7933 - val_loss: 0.5151 - val_categorical_accuracy: 0.8168\n",
      "Epoch 35/50\n",
      "57/57 [==============================] - 20s 354ms/step - loss: 0.5693 - categorical_accuracy: 0.8010 - val_loss: 0.4896 - val_categorical_accuracy: 0.8256\n",
      "Epoch 36/50\n",
      "57/57 [==============================] - 21s 362ms/step - loss: 0.5656 - categorical_accuracy: 0.7872 - val_loss: 0.4849 - val_categorical_accuracy: 0.8256\n",
      "Epoch 37/50\n",
      "57/57 [==============================] - 20s 358ms/step - loss: 0.5666 - categorical_accuracy: 0.8038 - val_loss: 0.4859 - val_categorical_accuracy: 0.8278\n",
      "Epoch 38/50\n",
      "57/57 [==============================] - 20s 360ms/step - loss: 0.5428 - categorical_accuracy: 0.8043 - val_loss: 0.4820 - val_categorical_accuracy: 0.8146\n",
      "Epoch 39/50\n",
      "57/57 [==============================] - 21s 360ms/step - loss: 0.5273 - categorical_accuracy: 0.8132 - val_loss: 0.4701 - val_categorical_accuracy: 0.8278\n",
      "Epoch 40/50\n",
      "57/57 [==============================] - 20s 359ms/step - loss: 0.5175 - categorical_accuracy: 0.8148 - val_loss: 0.4744 - val_categorical_accuracy: 0.8190\n",
      "Epoch 41/50\n",
      "57/57 [==============================] - 20s 351ms/step - loss: 0.5443 - categorical_accuracy: 0.8021 - val_loss: 0.4963 - val_categorical_accuracy: 0.8124\n",
      "Epoch 42/50\n",
      "57/57 [==============================] - 20s 354ms/step - loss: 0.5308 - categorical_accuracy: 0.8203 - val_loss: 0.4728 - val_categorical_accuracy: 0.8256\n",
      "Epoch 43/50\n",
      "57/57 [==============================] - 20s 351ms/step - loss: 0.5014 - categorical_accuracy: 0.8231 - val_loss: 0.4837 - val_categorical_accuracy: 0.8322\n",
      "Epoch 44/50\n",
      "57/57 [==============================] - 20s 351ms/step - loss: 0.5197 - categorical_accuracy: 0.8132 - val_loss: 0.4656 - val_categorical_accuracy: 0.8433\n",
      "Epoch 45/50\n",
      "57/57 [==============================] - 20s 353ms/step - loss: 0.4907 - categorical_accuracy: 0.8281 - val_loss: 0.4738 - val_categorical_accuracy: 0.8366\n",
      "Epoch 46/50\n",
      "57/57 [==============================] - 20s 352ms/step - loss: 0.4984 - categorical_accuracy: 0.8148 - val_loss: 0.4493 - val_categorical_accuracy: 0.8389\n",
      "Epoch 47/50\n",
      "57/57 [==============================] - 20s 355ms/step - loss: 0.5048 - categorical_accuracy: 0.8187 - val_loss: 0.4612 - val_categorical_accuracy: 0.8278\n",
      "Epoch 48/50\n",
      "57/57 [==============================] - 20s 349ms/step - loss: 0.4665 - categorical_accuracy: 0.8325 - val_loss: 0.4554 - val_categorical_accuracy: 0.8256\n",
      "Epoch 49/50\n",
      "57/57 [==============================] - 20s 349ms/step - loss: 0.4608 - categorical_accuracy: 0.8408 - val_loss: 0.4481 - val_categorical_accuracy: 0.8322\n",
      "Epoch 50/50\n",
      "57/57 [==============================] - 20s 357ms/step - loss: 0.4734 - categorical_accuracy: 0.8463 - val_loss: 0.4483 - val_categorical_accuracy: 0.8322\n"
     ]
    }
   ],
   "source": [
    "history = model_tl.fit(train_datagen.flow(train_imgs,train_labels_cat, seed=32, batch_size=32), epochs=50, validation_data = (val_imgs,val_labels_cat), callbacks=[callback_v5,callback_chp])"
   ]
  },
  {
   "cell_type": "markdown",
   "metadata": {
    "id": "NEt9RkAaJPjf"
   },
   "source": [
    "### Plot training results"
   ]
  },
  {
   "cell_type": "code",
   "execution_count": 35,
   "metadata": {
    "colab": {
     "base_uri": "https://localhost:8080/",
     "height": 661.0
    },
    "id": "y0E5D8uvJPjf",
    "outputId": "cc509c14-0a0a-4f1f-e89a-7f8bb266f007"
   },
   "outputs": [
    {
     "data": {
      "image/png": "[encoded data removed]",
      "text/plain": [
       "<Figure size 432x288 with 1 Axes>"
      ]
     },
     "metadata": {
      "needs_background": "light",
      "tags": []
     },
     "output_type": "display_data"
    },
    {
     "data": {
      "image/png": "[encoded data removed]",
      "text/plain": [
       "<Figure size 432x288 with 1 Axes>"
      ]
     },
     "metadata": {
      "needs_background": "light",
      "tags": []
     },
     "output_type": "display_data"
    },
    {
     "name": "stdout",
     "output_type": "stream",
     "text": [
      "[0.26257601380348206, 0.40851297974586487, 0.47042563557624817, 0.5080154538154602, 0.5572139024734497, 0.5760088562965393, 0.5909342169761658, 0.6318408250808716, 0.6500829458236694, 0.6445550322532654, 0.6710889935493469, 0.6744057536125183, 0.6887783408164978, 0.6865671873092651, 0.6909894943237305, 0.6981757879257202, 0.7247098088264465, 0.7224985957145691, 0.7330016493797302, 0.7385295629501343, 0.7330016493797302, 0.745715856552124, 0.7495853900909424, 0.7562189102172852, 0.7672747373580933, 0.7810945510864258, 0.7523493766784668, 0.7877280116081238, 0.7589828372001648, 0.7860696315765381, 0.780541718006134, 0.7877280116081238, 0.7910447716712952, 0.7932559251785278, 0.8009950518608093, 0.7871752381324768, 0.803758978843689, 0.8043117523193359, 0.8131564259529114, 0.8148148059844971, 0.8021005988121033, 0.8203427195549011, 0.8231067061424255, 0.8131564259529114, 0.8280817866325378, 0.8148148059844971, 0.8186843395233154, 0.832504153251648, 0.8407959938049316, 0.8463239073753357]\n",
      "[0.41721853613853455, 0.5121412873268127, 0.5320088267326355, 0.5894039869308472, 0.6490066051483154, 0.6445916295051575, 0.6909492015838623, 0.7174392938613892, 0.7041942477226257, 0.7240617871284485, 0.7218543291091919, 0.7417218685150146, 0.7461368441581726, 0.7615894079208374, 0.7682119011878967, 0.7770419716835022, 0.7770419716835022, 0.7858719825744629, 0.7836644649505615, 0.7924944758415222, 0.7947019934654236, 0.7991169691085815, 0.8145695328712463, 0.796909511089325, 0.8035320043563843, 0.823399543762207, 0.8211920261383057, 0.8013244867324829, 0.8057395219802856, 0.8256070613861084, 0.8211920261383057, 0.823399543762207, 0.8035320043563843, 0.8167770504951477, 0.8256070613861084, 0.8256070613861084, 0.8278145790100098, 0.8145695328712463, 0.8278145790100098, 0.8189845681190491, 0.812362015247345, 0.8256070613861084, 0.8322295546531677, 0.8432670831680298, 0.8366445899009705, 0.8388521075248718, 0.8278145790100098, 0.8256070613861084, 0.8322295546531677, 0.8322295546531677]\n",
      "[1.8686164617538452, 1.4874759912490845, 1.3171625137329102, 1.2380987405776978, 1.1318371295928955, 1.0802818536758423, 1.0446316003799438, 0.9627901315689087, 0.9257331490516663, 0.9241749048233032, 0.8795717358589172, 0.8424068689346313, 0.83641117811203, 0.7922320365905762, 0.789135754108429, 0.7747477889060974, 0.741187334060669, 0.7347770929336548, 0.7288694381713867, 0.705704391002655, 0.7321199178695679, 0.6892048716545105, 0.6668990850448608, 0.6777365803718567, 0.6543266773223877, 0.6214393973350525, 0.648909866809845, 0.6133210062980652, 0.6191838383674622, 0.5970796942710876, 0.6018725633621216, 0.6015298962593079, 0.5617138147354126, 0.5678188800811768, 0.5692617297172546, 0.5656411647796631, 0.5666266083717346, 0.5428352952003479, 0.5273116827011108, 0.5174515843391418, 0.5443183183670044, 0.5308225750923157, 0.5013952851295471, 0.5196613073348999, 0.49071285128593445, 0.4983797073364258, 0.5047751665115356, 0.46645915508270264, 0.4608273208141327, 0.47335314750671387]\n",
      "[1.493232250213623, 1.2882845401763916, 1.157531499862671, 1.0602810382843018, 0.9789993166923523, 0.9239838719367981, 0.8667013645172119, 0.8227364420890808, 0.7938701510429382, 0.7708757519721985, 0.7436369061470032, 0.7203506827354431, 0.7020503878593445, 0.6754270195960999, 0.6566773056983948, 0.6410239338874817, 0.6272680163383484, 0.6172399520874023, 0.6129927039146423, 0.58656907081604, 0.586120069026947, 0.5744695663452148, 0.5598640441894531, 0.557608425617218, 0.5513507723808289, 0.5433453321456909, 0.5257605314254761, 0.5351449251174927, 0.5271162986755371, 0.5113203525543213, 0.5182057023048401, 0.5036792755126953, 0.5307931900024414, 0.5150732398033142, 0.48961663246154785, 0.48493486642837524, 0.48593413829803467, 0.4820331037044525, 0.47006839513778687, 0.47435247898101807, 0.49627140164375305, 0.4728432595729828, 0.48372840881347656, 0.4655868113040924, 0.4738217890262604, 0.4493328630924225, 0.4611666202545166, 0.45542165637016296, 0.44806504249572754, 0.4483371078968048]\n"
     ]
    }
   ],
   "source": [
    "def plot_history_results():\n",
    "  acc      = history.history['categorical_accuracy']\n",
    "  val_acc  = history.history['val_categorical_accuracy']\n",
    "  loss     = history.history['loss']\n",
    "  val_loss = history.history['val_loss']\n",
    "  epochs   = range(1,len(acc)+1) # Get number of epochs\n",
    "\n",
    "  plt.plot(epochs, acc,  label='Training accuracy')\n",
    "  plt.plot(epochs, val_acc,  label='Validation accuracy')\n",
    "  plt.title('Training and validation accuracy')\n",
    "  plt.xlabel('epoch')\n",
    "  plt.ylabel('accuracy')\n",
    "  plt.legend()\n",
    "  plt.show()\n",
    "\n",
    "  ###-----plot loss---------------\n",
    "  plt.plot(epochs,loss)\n",
    "  plt.plot(epochs,val_loss)\n",
    "  plt.title('loss vs epochs')\n",
    "  plt.ylabel('loss')\n",
    "  plt.xlabel('epoch')\n",
    "  plt.legend(['train', 'validation'], loc='upper right')\n",
    "  plt.show()\n",
    "\n",
    "  print(acc)\n",
    "  print(val_acc)\n",
    "\n",
    "  print(history.history['loss'])\n",
    "  print(history.history['val_loss'])\n",
    "\n",
    "plot_history_results()"
   ]
  },
  {
   "cell_type": "code",
   "execution_count": 36,
   "metadata": {
    "colab": {
     "base_uri": "https://localhost:8080/"
    },
    "id": "-m6ezWndJPjg",
    "outputId": "85aaf689-20ac-4313-fcef-e9121a7d12ac"
   },
   "outputs": [
    {
     "name": "stdout",
     "output_type": "stream",
     "text": [
      "16/16 - 2s - loss: 0.4766 - categorical_accuracy: 0.8436\n",
      "Accuracy on test dataset: 0.8435643315315247\n"
     ]
    }
   ],
   "source": [
    "test_loss, test_accuracy = model_tl.evaluate(test_imgs, test_labels_cat, batch_size=batch_size_n, verbose=2)\n",
    "print('Accuracy on test dataset:', test_accuracy)"
   ]
  },
  {
   "cell_type": "markdown",
   "metadata": {
    "id": "VAfnJIJYJPjg"
   },
   "source": [
    "#### Classification report"
   ]
  },
  {
   "cell_type": "code",
   "execution_count": 40,
   "metadata": {
    "id": "bMvvHosPJOxQ"
   },
   "outputs": [],
   "source": [
    "#  to get a text report showing the main classification metrics for each class\n",
    "target_names = [\"Class {} ({}) :\".format(i,class_names[i]) for i in range(6)]"
   ]
  },
  {
   "cell_type": "markdown",
   "metadata": {
    "id": "IK6Iz2oNf1mQ"
   },
   "source": [
    "Train results"
   ]
  },
  {
   "cell_type": "code",
   "execution_count": 44,
   "metadata": {
    "id": "oU5A5HzTf53N"
   },
   "outputs": [],
   "source": [
    "#get the predictions for the test data\n",
    "y_train_pred = np.argmax(model_tl.predict(train_imgs), axis=-1)\n",
    "y_train_true = train_labels"
   ]
  },
  {
   "cell_type": "code",
   "execution_count": 45,
   "metadata": {
    "colab": {
     "base_uri": "https://localhost:8080/"
    },
    "id": "6cJaSnfqrdh6",
    "outputId": "53d1d565-cb4e-48a8-c0a3-38fb7c84d991"
   },
   "outputs": [
    {
     "name": "stdout",
     "output_type": "stream",
     "text": [
      "Correct predicted classes: 1673\n",
      "Incorrect predicted classes: 136\n"
     ]
    }
   ],
   "source": [
    "correct=np.nonzero(y_train_pred==y_train_true)[0]\n",
    "incorrect=np.nonzero(y_train_pred!=y_train_true)[0]\n",
    "\n",
    "print(\"Correct predicted classes:\",correct.shape[0])\n",
    "print(\"Incorrect predicted classes:\",incorrect.shape[0])"
   ]
  },
  {
   "cell_type": "code",
   "execution_count": 46,
   "metadata": {
    "colab": {
     "base_uri": "https://localhost:8080/"
    },
    "id": "zW2bhFbogLht",
    "outputId": "a1fb1feb-a0a6-4cca-9c95-4415ac005a29"
   },
   "outputs": [
    {
     "name": "stdout",
     "output_type": "stream",
     "text": [
      "                       precision    recall  f1-score   support\n",
      "\n",
      "    Class 0 (trash) :       0.91      0.97      0.94       276\n",
      "    Class 1 (glass) :       0.89      0.90      0.89       269\n",
      "    Class 2 (metal) :       0.89      0.92      0.91       291\n",
      "    Class 3 (paper) :       0.94      0.96      0.95       390\n",
      "  Class 4 (plastic) :       0.93      0.85      0.89       303\n",
      "Class 5 (cardboard) :       0.99      0.94      0.96       280\n",
      "\n",
      "             accuracy                           0.92      1809\n",
      "            macro avg       0.92      0.92      0.92      1809\n",
      "         weighted avg       0.93      0.92      0.92      1809\n",
      "\n"
     ]
    }
   ],
   "source": [
    "print(classification_report(y_train_true, y_train_pred, target_names=target_names))"
   ]
  },
  {
   "cell_type": "markdown",
   "metadata": {
    "id": "tnUsCIGfgTUa"
   },
   "source": [
    "Test results"
   ]
  },
  {
   "cell_type": "code",
   "execution_count": 37,
   "metadata": {
    "id": "G_0FylurJrXK"
   },
   "outputs": [],
   "source": [
    "#get the predictions for the test data\n",
    "y_test_pred  = np.argmax(model_tl.predict(test_imgs), axis=-1)\n",
    "# Get true labels \n",
    "y_test_true = test_labels"
   ]
  },
  {
   "cell_type": "code",
   "execution_count": 38,
   "metadata": {
    "colab": {
     "base_uri": "https://localhost:8080/"
    },
    "id": "-ujRP_RmJPjh",
    "outputId": "fb4d890b-2020-4b66-ba32-4cb642343a67"
   },
   "outputs": [
    {
     "name": "stdout",
     "output_type": "stream",
     "text": [
      "Correct predicted classes: 426\n",
      "Incorrect predicted classes: 79\n"
     ]
    }
   ],
   "source": [
    "correct=np.nonzero(y_test_pred==y_test_true)[0]\n",
    "incorrect=np.nonzero(y_test_pred!=y_test_true)[0]\n",
    "\n",
    "print(\"Correct predicted classes:\",correct.shape[0])\n",
    "print(\"Incorrect predicted classes:\",incorrect.shape[0])"
   ]
  },
  {
   "cell_type": "code",
   "execution_count": 41,
   "metadata": {
    "colab": {
     "base_uri": "https://localhost:8080/"
    },
    "id": "68kD2Kf6SGpF",
    "outputId": "58ecddfe-91e6-4f09-dd4b-7faec61a6820"
   },
   "outputs": [
    {
     "name": "stdout",
     "output_type": "stream",
     "text": [
      "                       precision    recall  f1-score   support\n",
      "\n",
      "    Class 0 (trash) :       0.80      0.80      0.80        20\n",
      "    Class 1 (glass) :       0.88      0.74      0.80       150\n",
      "    Class 2 (metal) :       0.72      0.87      0.79        62\n",
      "    Class 3 (paper) :       0.88      0.91      0.90       100\n",
      "  Class 4 (plastic) :       0.82      0.89      0.85       112\n",
      "Class 5 (cardboard) :       0.92      0.89      0.90        61\n",
      "\n",
      "             accuracy                           0.84       505\n",
      "            macro avg       0.84      0.85      0.84       505\n",
      "         weighted avg       0.85      0.84      0.84       505\n",
      "\n"
     ]
    }
   ],
   "source": [
    "print(classification_report(y_test_true, y_test_pred, target_names=target_names))"
   ]
  },
  {
   "cell_type": "markdown",
   "metadata": {
    "id": "yEmK2T_wJPjh"
   },
   "source": [
    "#### Confusion matrix"
   ]
  },
  {
   "cell_type": "code",
   "execution_count": 42,
   "metadata": {
    "colab": {
     "base_uri": "https://localhost:8080/",
     "height": 500.0
    },
    "id": "DstYijbsJPjh",
    "outputId": "449a3cb3-f372-4eb9-c07b-bbb599c3099d"
   },
   "outputs": [
    {
     "data": {
      "text/plain": [
       "<matplotlib.axes._subplots.AxesSubplot at 0x7fa3265058d0>"
      ]
     },
     "execution_count": 42,
     "metadata": {
      "tags": []
     },
     "output_type": "execute_result"
    },
    {
     "data": {
      "image/png": "[encoded data removed]",
      "text/plain": [
       "<Figure size 576x576 with 2 Axes>"
      ]
     },
     "metadata": {
      "needs_background": "light",
      "tags": []
     },
     "output_type": "display_data"
    }
   ],
   "source": [
    "conf = confusion_matrix(y_test_true, y_test_pred)\n",
    "fig, ax = plt.subplots(figsize=(8,8)) \n",
    "sns.heatmap(conf, annot=True, fmt='.1f', xticklabels=class_names, yticklabels=class_names, cmap='coolwarm', linewidths=.5, ax=ax)"
   ]
  },
  {
   "cell_type": "code",
   "execution_count": null,
   "metadata": {
    "id": "5HhpyvEMa0gt"
   },
   "outputs": [],
   "source": []
  }
 ],
 "metadata": {
  "accelerator": "GPU",
  "colab": {
   "collapsed_sections": [],
   "name": "notebook-ds-waste-classif-model.ipynb",
   "provenance": []
  },
  "kernelspec": {
   "display_name": "Python 3 (ipykernel)",
   "language": "python",
   "name": "python3"
  },
  "language_info": {
   "codemirror_mode": {
    "name": "ipython",
    "version": 3
   },
   "file_extension": ".py",
   "mimetype": "text/x-python",
   "name": "python",
   "nbconvert_exporter": "python",
   "pygments_lexer": "ipython3",
   "version": "3.7.1"
  }
 },
 "nbformat": 4,
 "nbformat_minor": 1
}
