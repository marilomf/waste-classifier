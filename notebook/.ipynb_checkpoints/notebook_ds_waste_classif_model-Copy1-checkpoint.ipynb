{
 "cells": [
  {
   "cell_type": "markdown",
   "metadata": {
    "id": "74ZM2VcjJPjG"
   },
   "source": [
    "#### Loading libraries"
   ]
  },
  {
   "cell_type": "code",
   "execution_count": null,
   "metadata": {
    "id": "FO0sAjKbJPjO"
   },
   "outputs": [],
   "source": [
    "# import Python packages and libraries\n",
    "# provides functionality to train neural network\n",
    "import tensorflow as tf\n",
    "import pandas as pd\n",
    "# provides mathematical functions to operate on arrays and matrices\n",
    "import numpy as np\n",
    "import random\n",
    "# library to interact with operating system\n",
    "import os\n",
    "import glob\n",
    "from os import listdir\n",
    "from os.path import isfile, join\n",
    "# library for generating plots\n",
    "import matplotlib.pyplot as plt\n",
    "# library to use data augmentation\n",
    "from tensorflow.keras.preprocessing.image import ImageDataGenerator\n",
    "from tensorflow.keras import optimizers\n",
    "from keras.preprocessing.image import img_to_array\n",
    "from keras.preprocessing.image import load_img\n",
    "from keras.preprocessing.image import save_img\n",
    "# for checking results\n",
    "import seaborn as sns\n",
    "from sklearn.metrics import classification_report\n",
    "from sklearn.metrics import confusion_matrix\n",
    "import cv2\n",
    "from sklearn.utils import shuffle"
   ]
  },
  {
   "cell_type": "code",
   "execution_count": null,
   "metadata": {
    "id": "c3BZV76VIGIn"
   },
   "outputs": [],
   "source": [
    "import random as python_random\n",
    "\n",
    "os.environ['TF_DETERMINISTIC_OPS'] = '1'\n",
    "\n",
    "# The below is necessary for starting Numpy generated random numbers\n",
    "# in a well-defined initial state.\n",
    "np.random.seed(42)\n",
    "\n",
    "# The below is necessary for starting core Python generated random numbers\n",
    "# in a well-defined state.\n",
    "python_random.seed(12345)\n",
    "\n",
    "# Force TensorFlow to use single thread.\n",
    "# Multiple threads are a potential source of non-reproducible results.\n",
    "# For further details, see: https://stackoverflow.com/questions/42022950/\n",
    "\n",
    "# The below set_seed() will make random number generation\n",
    "# in the TensorFlow backend have a well-defined initial state.\n",
    "# For further details, see:\n",
    "# https://www.tensorflow.org/api_docs/python/tf/random/set_seed\n",
    "tf.random.set_seed(1234)"
   ]
  },
  {
   "cell_type": "markdown",
   "metadata": {
    "id": "PoXGtMqwJTtG"
   },
   "source": [
    "Montar archivos y descomprimir"
   ]
  },
  {
   "cell_type": "code",
   "execution_count": null,
   "metadata": {
    "colab": {
     "base_uri": "https://localhost:8080/"
    },
    "id": "PvWkU13Qc0Qf",
    "outputId": "23730328-6b3e-4e30-d07b-0bfcd86595f5"
   },
   "outputs": [
    {
     "name": "stdout",
     "output_type": "stream",
     "text": [
      "Mounted at /content/drive\n"
     ]
    }
   ],
   "source": [
    "from google.colab import drive\n",
    "drive.mount('/content/drive')"
   ]
  },
  {
   "cell_type": "code",
   "execution_count": null,
   "metadata": {
    "id": "CQT29WOUJyEZ"
   },
   "outputs": [],
   "source": [
    "gdrive_dir = '/content/drive/MyDrive/DataScience-SEE/'"
   ]
  },
  {
   "cell_type": "markdown",
   "metadata": {
    "id": "BsoBXMeCJPjQ"
   },
   "source": [
    "### Exploratory analysis"
   ]
  },
  {
   "cell_type": "code",
   "execution_count": null,
   "metadata": {
    "id": "MNduXuS1JPjQ"
   },
   "outputs": [],
   "source": [
    "# Image size\n",
    "img_width, img_height =  224, 224\n",
    "batch_size_n = 32"
   ]
  },
  {
   "cell_type": "code",
   "execution_count": null,
   "metadata": {
    "id": "USakQa_kJPjQ"
   },
   "outputs": [],
   "source": [
    "# list containing x axis labels\n",
    "class_names = ['trash', 'glass','metal','paper','plastic','cardboard']\n",
    "n_classes = len(class_names)"
   ]
  },
  {
   "cell_type": "code",
   "execution_count": null,
   "metadata": {
    "id": "L8eNET7VJPjS"
   },
   "outputs": [],
   "source": [
    "# The path to the dataset\n",
    "base_dir = gdrive_dir + 'garbage-pics'\n",
    "\n",
    "# Directories\n",
    "train_dir = os.path.join(base_dir, 'train')\n",
    "test_dir = os.path.join(base_dir, 'test')"
   ]
  },
  {
   "cell_type": "code",
   "execution_count": null,
   "metadata": {
    "colab": {
     "base_uri": "https://localhost:8080/"
    },
    "id": "zcpbS-GnJPjS",
    "outputId": "6df697e9-b951-48e6-d269-f0be5b50bebf"
   },
   "outputs": [
    {
     "name": "stdout",
     "output_type": "stream",
     "text": [
      "====== Number of images per directory and class ======\n",
      "FOLDER: /content/drive/MyDrive/DataScience-SEE/garbage-pics/train\n",
      "trash - 357\n",
      "glass - 351\n",
      "metal - 348\n",
      "paper - 494\n",
      "plastic - 370\n",
      "cardboard - 342\n",
      "====================================================\n",
      "FOLDER: /content/drive/MyDrive/DataScience-SEE/garbage-pics/test\n",
      "trash - 20\n",
      "glass - 150\n",
      "metal - 62\n",
      "paper - 100\n",
      "plastic - 112\n",
      "cardboard - 61\n",
      "====================================================\n"
     ]
    }
   ],
   "source": [
    "def print_count_from_folders():\n",
    "\n",
    "    print('====== Number of images per directory and class ======')\n",
    "    for path_folder in [train_dir, test_dir]:\n",
    "        print('FOLDER: '+ path_folder)\n",
    "        for item_class in class_names:\n",
    "            path = os.path.join(path_folder, item_class)\n",
    "\n",
    "            print(item_class + \" - \"+ str(len(os.listdir(path))))\n",
    "        print('====================================================')\n",
    "print_count_from_folders()"
   ]
  },
  {
   "cell_type": "markdown",
   "metadata": {
    "id": "YEqV1Y_nJPjW"
   },
   "source": [
    "#### Load datasets"
   ]
  },
  {
   "cell_type": "code",
   "execution_count": null,
   "metadata": {
    "id": "sjJoXl4nX2FN"
   },
   "outputs": [],
   "source": [
    "def create_data_from_folder(dir_path):\n",
    "    data = []\n",
    "    \n",
    "    for item_class in class_names:\n",
    "        path = os.path.join(dir_path, item_class)\n",
    "        \n",
    "        for img in os.listdir(path):\n",
    "            try:\n",
    "                pic_array = cv2.imread(os.path.join(path,img))\n",
    "                pic_resized = cv2.resize(pic_array,(img_width,img_height))\n",
    "                #print(pic_resized.shape)\n",
    "                data.append([pic_resized,class_names.index(item_class)])\n",
    "            except Exception as e:\n",
    "                pass\n",
    "    return data"
   ]
  },
  {
   "cell_type": "code",
   "execution_count": null,
   "metadata": {
    "id": "jZtwF770YVDA"
   },
   "outputs": [],
   "source": [
    "train_array = create_data_from_folder(train_dir)\n",
    "test_array = create_data_from_folder(test_dir)"
   ]
  },
  {
   "cell_type": "code",
   "execution_count": null,
   "metadata": {
    "colab": {
     "base_uri": "https://localhost:8080/"
    },
    "id": "mQ2gvtOSYHc3",
    "outputId": "4d132d21-d692-4c9a-d9a6-82055dd22819"
   },
   "outputs": [
    {
     "name": "stdout",
     "output_type": "stream",
     "text": [
      "2262 505\n"
     ]
    }
   ],
   "source": [
    "print(len(train_array),len(test_array))"
   ]
  },
  {
   "cell_type": "code",
   "execution_count": null,
   "metadata": {
    "id": "v2Qf-rWrYdIK"
   },
   "outputs": [],
   "source": [
    "def separate_imgs_labels(data_array):\n",
    "  x = []\n",
    "  y = []\n",
    "  for item in data_array:\n",
    "    x.append(item[0]) #img\n",
    "    y.append(item[1]) #labels\n",
    "\n",
    "  # converting x & y to numpy array as they are list\n",
    "  x = np.array(x)\n",
    "  y = np.array(y)\n",
    "  return x, y"
   ]
  },
  {
   "cell_type": "code",
   "execution_count": null,
   "metadata": {
    "colab": {
     "base_uri": "https://localhost:8080/"
    },
    "id": "tFGzvevFZD70",
    "outputId": "3d532f6f-10b3-4559-9f38-2a20db79b38a"
   },
   "outputs": [
    {
     "name": "stdout",
     "output_type": "stream",
     "text": [
      "(2262, 224, 224, 3) (2262,)\n"
     ]
    }
   ],
   "source": [
    "np.random.shuffle(train_array)\n",
    "train_imgs, train_labels = separate_imgs_labels(train_array)\n",
    "train_imgs = train_imgs/255.0\n",
    "print(train_imgs.shape, train_labels.shape)"
   ]
  },
  {
   "cell_type": "code",
   "execution_count": null,
   "metadata": {
    "colab": {
     "base_uri": "https://localhost:8080/"
    },
    "id": "bbN986MIZdoU",
    "outputId": "4416f5e9-f7cc-4fdd-a16a-255a3dca14de"
   },
   "outputs": [
    {
     "name": "stdout",
     "output_type": "stream",
     "text": [
      "(505, 224, 224, 3) (505,)\n"
     ]
    }
   ],
   "source": [
    "np.random.shuffle(test_array)\n",
    "test_imgs, test_labels = separate_imgs_labels(test_array)\n",
    "test_imgs = test_imgs/255.0 # normalize\n",
    "print(test_imgs.shape, test_labels.shape)"
   ]
  },
  {
   "cell_type": "code",
   "execution_count": null,
   "metadata": {
    "colab": {
     "base_uri": "https://localhost:8080/"
    },
    "id": "EwImxO_cc4sX",
    "outputId": "22f973c1-e45a-4d0b-8489-47a15c494b45"
   },
   "outputs": [
    {
     "name": "stdout",
     "output_type": "stream",
     "text": [
      "(2262, 6) (505, 6)\n"
     ]
    }
   ],
   "source": [
    "from sklearn.preprocessing import OneHotEncoder\n",
    "onehotencoder = OneHotEncoder()\n",
    "train_labels_cat = onehotencoder.fit_transform(train_labels.reshape(-1,1)).toarray()\n",
    "test_labels_cat = onehotencoder.fit_transform(test_labels.reshape(-1,1)).toarray()\n",
    "print(train_labels_cat.shape, test_labels_cat.shape)"
   ]
  },
  {
   "cell_type": "code",
   "execution_count": null,
   "metadata": {
    "id": "qxL_QBpLZp--"
   },
   "outputs": [],
   "source": [
    "train_datagen = ImageDataGenerator(rotation_range=30,\n",
    "                                   width_shift_range=0.1,\n",
    "                                   height_shift_range=0.1,\n",
    "                                   zoom_range=0.1,\n",
    "                                   shear_range=0.1,\n",
    "                                   vertical_flip=True,\n",
    "                                   horizontal_flip=True)\n",
    "train_datagen.fit(train_imgs,seed=123)"
   ]
  },
  {
   "cell_type": "code",
   "execution_count": null,
   "metadata": {
    "colab": {
     "base_uri": "https://localhost:8080/"
    },
    "id": "MZt6TJb3aCuQ",
    "outputId": "d5bd740a-2cee-4006-8516-38812c042b55"
   },
   "outputs": [
    {
     "data": {
      "text/plain": [
       "(505, 224, 224, 3)"
      ]
     },
     "execution_count": 17,
     "metadata": {
      "tags": []
     },
     "output_type": "execute_result"
    }
   ],
   "source": [
    "train_imgs.shape\n",
    "test_imgs.shape"
   ]
  },
  {
   "cell_type": "code",
   "execution_count": null,
   "metadata": {
    "id": "1MtmfryhPZjN"
   },
   "outputs": [],
   "source": [
    "def plot_data_distribution():\n",
    "  labels = (train_generator.class_indices)\n",
    "  labels = dict((v,k) for k,v in labels.items())\n",
    "\n",
    "  count_arr_3 = np.bincount(train_generator.classes)\n",
    "  bar = plt.bar(class_names,count_arr_3)\n",
    "\n",
    "  for rect in bar:\n",
    "    height = rect.get_height()\n",
    "    plt.text(rect.get_x() + rect.get_width()/2.0, height, '%.2f ' % float(height/2262) + '%', ha='center', va='bottom')\n",
    "\n",
    "  #plt.xticks(range(0,6),class_names)\n",
    "  plt.show()\n"
   ]
  },
  {
   "cell_type": "markdown",
   "metadata": {
    "id": "_QpShcgPJPjX"
   },
   "source": [
    "#### Plot some samples of train data"
   ]
  },
  {
   "cell_type": "code",
   "execution_count": null,
   "metadata": {
    "id": "EZWAhJdmJPjX"
   },
   "outputs": [],
   "source": [
    "def plot_training_data():\n",
    "  image_batch1, label_batch1 = next(train_generator)\n",
    "  # create figure object\n",
    "  fig = plt.figure(1,figsize=(10,10))\n",
    "\n",
    "  # list containing x axis labels\n",
    "  #class_name = ['trash', 'glass','metal','paper','plastic','cardboard']\n",
    "\n",
    "  # plot first 9 images from the training dataset\n",
    "  for i in range(9):\n",
    "      # create an empty subplot\n",
    "      plt.subplot(3,3,i+1)\n",
    "      # read the image file \n",
    "      #print(image_batch1[i].shape)\n",
    "      image = plt.imshow(image_batch1[i])\n",
    "      \n",
    "      # format axes \n",
    "      plt.xticks([])  # remove x axis ticks        \n",
    "      plt.yticks([])  # remove y axis ticks\n",
    "      \n",
    "      # set the image x axis label\n",
    "      label = np.argmax(label_batch1[i])\n",
    "      plt.xlabel(class_names[label]+\" - \"+str(label), fontsize = 16)\n",
    "      \n",
    "  plt.show()\n",
    "#plot_training_data()"
   ]
  },
  {
   "cell_type": "markdown",
   "metadata": {
    "id": "2gfPfhbSJPjX"
   },
   "source": [
    "### Data augmentation"
   ]
  },
  {
   "cell_type": "markdown",
   "metadata": {
    "id": "1qRc6VUhRzb7"
   },
   "source": [
    "Applying transformations on images"
   ]
  },
  {
   "cell_type": "code",
   "execution_count": null,
   "metadata": {
    "id": "owCmnBIHJPjY"
   },
   "outputs": [],
   "source": [
    "# Ref: https://www.kaggle.com/dhayalkarsahilr/easy-image-augmentation-techniques\n",
    "def apply_transformation_img(image, image_name):\n",
    "  # flip horizontally\n",
    "  flip = tf.image.flip_left_right(image)\n",
    "  # central crop\n",
    "  central_crop = tf.image.central_crop(image, central_fraction=0.8)\n",
    "  # rotate 90\n",
    "  rotate90 = tf.keras.preprocessing.image.random_rotation(image,90, row_axis=0, col_axis=1, channel_axis=2, fill_mode='nearest', cval=0.0, interpolation_order=1)\n",
    "  # adjust brightness\n",
    "  brightness = tf.image.random_brightness(image, 0.07)\n",
    "  # rotate 180\n",
    "  rotate180 = tf.image.rot90(image, k=2)\n",
    "  # random contrast\n",
    "  #contrast = tf.image.random_contrast(image, 0.7, 1.0,)\n",
    "  # rotate 45\n",
    "  rotate45 = tf.keras.preprocessing.image.random_rotation(image,45, row_axis=0, col_axis=1, channel_axis=2, fill_mode='nearest', cval=0.0, interpolation_order=1)\n",
    "\n",
    "  # captions for different transformations \n",
    "  label = ['flipped', 'central_crop', 'rotate 90', 'adjusted brightness', 'rotate 180','rotate 45']\n",
    "\n",
    "  # list containing transformations \n",
    "  transformations = [flip, central_crop, rotate90, brightness, rotate180, rotate45]\n",
    "  \n",
    "  #fig = plt.figure(1,figsize=(8,6))\n",
    "\n",
    "  for i in range(len(transformations)):\n",
    "\n",
    "      '''plt.subplot(3,3,i+1)\n",
    "      plt.imshow(transformations[i])\n",
    "\n",
    "      # format axes \n",
    "      plt.xticks([])  # remove x axis ticks        \n",
    "      plt.yticks([])  # remove y axis ticks\n",
    "      \n",
    "      # set the image x axis label\n",
    "      plt.xlabel(label[i], fontsize = 16)'''\n",
    "\n",
    "      img_array = img_to_array(transformations[i])\n",
    "      save_img(gdrive_dir + 'garbage-pics/train/trash/trash_' + image_name + '_'+ str(i+1)+'.jpg',img_array)\n",
    "      \n",
    "  #fig.tight_layout()\n",
    "  #plt.show()"
   ]
  },
  {
   "cell_type": "code",
   "execution_count": null,
   "metadata": {
    "id": "AxTrvU2Iq-gt"
   },
   "outputs": [],
   "source": [
    "# Get a list of all the file paths that ends with .txt from in specified directory\n",
    "def list_transformed_images(delete=False):\n",
    "  fileList = glob.glob(gdrive_dir + 'garbage-pics/train/trash/*_*.jpg')\n",
    "  print(fileList)\n",
    "  print(len(fileList))\n",
    "\n",
    "  if (delete):\n",
    "    # Iterate over the list of filepaths & remove each file.\n",
    "    print('Deleting '+ str(len(fileList)) + ' images')\n",
    "    for filePath in fileList:\n",
    "        try:\n",
    "            os.remove(filePath)\n",
    "        except:\n",
    "          print(\"Error while deleting file : \", filePath)\n",
    "#list_transformed_images() # add delete=True to remove all created pics"
   ]
  },
  {
   "cell_type": "code",
   "execution_count": null,
   "metadata": {
    "id": "LeXwd3yqjcKb"
   },
   "outputs": [],
   "source": [
    "def iterate_images_for_transformation(img_names,n_samples):\n",
    "\n",
    "  rand_val = random.sample(range(len(img_names)), n_samples)\n",
    "\n",
    "  for i in range(0,n_samples):\n",
    "    idx = rand_val[i]\n",
    "    img_name = img_names[idx].split(\".\")[0]\n",
    "    \n",
    "    img_test = plt.imread(class_path +str(img_names[idx]))[:,:,:3]\n",
    "    apply_transformation_img(img_test, img_name)\n",
    "    \n",
    "\n",
    "class_path = gdrive_dir + 'garbage-pics/train/trash/'\n",
    "img_filenames = [f for f in listdir(class_path) if isfile(join(class_path, f))]\n",
    "samples = 40\n",
    "\n",
    "#iterate_images_for_transformation(img_filenames,samples)"
   ]
  },
  {
   "cell_type": "code",
   "execution_count": null,
   "metadata": {
    "id": "arebYVwEbAC6"
   },
   "outputs": [],
   "source": [
    "#print_count_from_folders()\n",
    "# load the image\n",
    "#img_test = plt.imread(class_path +str(img_names[num1]))[:,:,:3]\n",
    "#apply_transformation_img(img_test)"
   ]
  },
  {
   "cell_type": "markdown",
   "metadata": {
    "id": "uULSInNTJPja"
   },
   "source": [
    "#### Apply data augmentation on training data"
   ]
  },
  {
   "cell_type": "code",
   "execution_count": null,
   "metadata": {
    "id": "hTDz5kzATk5K"
   },
   "outputs": [],
   "source": [
    "#plot_data_distribution()"
   ]
  },
  {
   "cell_type": "markdown",
   "metadata": {
    "id": "xdroPnh3JPjb"
   },
   "source": [
    "Check result after applying data augmentation"
   ]
  },
  {
   "cell_type": "code",
   "execution_count": null,
   "metadata": {
    "id": "i8hdL9qoJPjb"
   },
   "outputs": [],
   "source": [
    "def plot_data_augmented():\n",
    "  # retrieve first values\n",
    "  image_batch1, label_batch1 = next(train_generator)\n",
    "\n",
    "  # create figure object\n",
    "  fig = plt.figure(1,figsize=(10,10))\n",
    "\n",
    "\n",
    "  # plot first 9 images from the training dataset\n",
    "  for i in range(9):\n",
    "      # create an empty subplot\n",
    "      plt.subplot(3,3,i+1)\n",
    "      # read the image file \n",
    "      image = plt.imshow(image_batch1[i])\n",
    "      \n",
    "      # format axes \n",
    "      plt.xticks([])  # remove x axis ticks        \n",
    "      plt.yticks([])  # remove y axis ticks\n",
    "      \n",
    "      # set the image x axis label\n",
    "      label = np.argmax(label_batch1[i])\n",
    "      plt.xlabel(class_names[label]+\" - \"+str(label), fontsize = 16)\n",
    "      \n",
    "  plt.show()\n",
    "#plot_data_augmented()"
   ]
  },
  {
   "cell_type": "markdown",
   "metadata": {
    "id": "vD4oOc2wJy9N"
   },
   "source": [
    "### Transfer learning"
   ]
  },
  {
   "cell_type": "code",
   "execution_count": null,
   "metadata": {
    "colab": {
     "base_uri": "https://localhost:8080/"
    },
    "id": "-DFNmS2bJ4Az",
    "outputId": "c12f1916-96a0-4f5c-8ea9-3122069420ac"
   },
   "outputs": [
    {
     "name": "stdout",
     "output_type": "stream",
     "text": [
      "Downloading data from https://storage.googleapis.com/tensorflow/keras-applications/resnet/resnet50v2_weights_tf_dim_ordering_tf_kernels_notop.h5\n",
      "94674944/94668760 [==============================] - 0s 0us/step\n"
     ]
    }
   ],
   "source": [
    "from tensorflow.keras.applications import ResNet50V2\n",
    "\n",
    "img_width_res, img_height_res = 224,224\n",
    "\n",
    "base_model = ResNet50V2(include_top=False,\n",
    "                        weights='imagenet',\n",
    "                        input_shape=(img_width_res, img_height_res, 3))"
   ]
  },
  {
   "cell_type": "markdown",
   "metadata": {
    "id": "lWGl6YXBevaO"
   },
   "source": [
    "Fine tuning"
   ]
  },
  {
   "cell_type": "code",
   "execution_count": null,
   "metadata": {
    "id": "eQEb9LwaKdsC"
   },
   "outputs": [],
   "source": [
    "base_model.trainable=True"
   ]
  },
  {
   "cell_type": "code",
   "execution_count": null,
   "metadata": {
    "colab": {
     "base_uri": "https://localhost:8080/"
    },
    "id": "tpdSRJShB4_l",
    "outputId": "cae618bb-3561-4bc0-9ecc-bdf105c5f396"
   },
   "outputs": [
    {
     "name": "stdout",
     "output_type": "stream",
     "text": [
      "Number of layers in the base model:  190\n"
     ]
    }
   ],
   "source": [
    "print('Number of layers in the base model: ', len(base_model.layers))"
   ]
  },
  {
   "cell_type": "code",
   "execution_count": null,
   "metadata": {
    "id": "NScvUGHjCFUH"
   },
   "outputs": [],
   "source": [
    "fine_tune_at = 180\n",
    "for layer in base_model.layers[:fine_tune_at]:\n",
    "  layer.trainable = False"
   ]
  },
  {
   "cell_type": "code",
   "execution_count": null,
   "metadata": {
    "id": "yxmf8bkNLQJM"
   },
   "outputs": [],
   "source": [
    "inputs = tf.keras.Input(shape=(img_width_res,img_height_res,3))\n",
    "x = base_model(inputs, training=False)\n",
    "x = tf.keras.layers.GlobalAveragePooling2D()(x)\n",
    "\n",
    "x = tf.keras.layers.Dense(32, kernel_regularizer=tf.keras.regularizers.l2(0.00020), activation='relu')(x)\n",
    "x = tf.keras.layers.Dropout(0.4)(x)\n",
    "outputs = tf.keras.layers.Dense(6, activation='softmax')(x)\n",
    "model_tl = tf.keras.Model(inputs,outputs)"
   ]
  },
  {
   "cell_type": "code",
   "execution_count": null,
   "metadata": {
    "colab": {
     "base_uri": "https://localhost:8080/"
    },
    "id": "idHoImYWLstw",
    "outputId": "cb615cd9-256a-41f8-cc53-9af32aa727dc"
   },
   "outputs": [
    {
     "name": "stdout",
     "output_type": "stream",
     "text": [
      "Model: \"model\"\n",
      "_________________________________________________________________\n",
      "Layer (type)                 Output Shape              Param #   \n",
      "=================================================================\n",
      "input_2 (InputLayer)         [(None, 224, 224, 3)]     0         \n",
      "_________________________________________________________________\n",
      "resnet50v2 (Functional)      (None, 7, 7, 2048)        23564800  \n",
      "_________________________________________________________________\n",
      "global_average_pooling2d (Gl (None, 2048)              0         \n",
      "_________________________________________________________________\n",
      "dense (Dense)                (None, 32)                65568     \n",
      "_________________________________________________________________\n",
      "dropout (Dropout)            (None, 32)                0         \n",
      "_________________________________________________________________\n",
      "dense_1 (Dense)              (None, 6)                 198       \n",
      "=================================================================\n",
      "Total params: 23,630,566\n",
      "Trainable params: 3,481,830\n",
      "Non-trainable params: 20,148,736\n",
      "_________________________________________________________________\n"
     ]
    }
   ],
   "source": [
    "model_tl.summary()"
   ]
  },
  {
   "cell_type": "code",
   "execution_count": null,
   "metadata": {
    "id": "_u0OKnANLxz_"
   },
   "outputs": [],
   "source": [
    "sgd = tf.keras.optimizers.SGD(learning_rate=1e-4, decay=1e-6, momentum=0.9, nesterov=True)\n",
    "model_tl.compile(optimizer=sgd, loss=\"categorical_crossentropy\", metrics=[tf.metrics.categorical_accuracy])"
   ]
  },
  {
   "cell_type": "markdown",
   "metadata": {
    "id": "smTxf6oze0gR"
   },
   "source": [
    "Adding callbacks"
   ]
  },
  {
   "cell_type": "code",
   "execution_count": null,
   "metadata": {
    "id": "AhegWWifL2fr"
   },
   "outputs": [],
   "source": [
    "callback_v5= tf.keras.callbacks.EarlyStopping(monitor='val_loss', patience=5)"
   ]
  },
  {
   "cell_type": "code",
   "execution_count": null,
   "metadata": {
    "id": "P7MTI5cKbJwl"
   },
   "outputs": [],
   "source": [
    "callback_chp = tf.keras.callbacks.ModelCheckpoint(filepath= gdrive_dir+\"/checkpoint/\" , \n",
    "    monitor='val_loss', save_best_only= True, save_weights_only= True)"
   ]
  },
  {
   "cell_type": "code",
   "execution_count": null,
   "metadata": {
    "colab": {
     "base_uri": "https://localhost:8080/"
    },
    "id": "YnGgmXmSL5Au",
    "outputId": "3c5368f0-772b-44a8-cd0f-4b4910f84bd7"
   },
   "outputs": [
    {
     "name": "stdout",
     "output_type": "stream",
     "text": [
      "Epoch 1/100\n",
      "71/71 [==============================] - 59s 351ms/step - loss: 1.8518 - categorical_accuracy: 0.2798 - val_loss: 1.3699 - val_categorical_accuracy: 0.5089\n",
      "Epoch 2/100\n",
      "71/71 [==============================] - 23s 327ms/step - loss: 1.4767 - categorical_accuracy: 0.4085 - val_loss: 1.1425 - val_categorical_accuracy: 0.6079\n",
      "Epoch 3/100\n",
      "71/71 [==============================] - 24s 336ms/step - loss: 1.3116 - categorical_accuracy: 0.4726 - val_loss: 0.9920 - val_categorical_accuracy: 0.6634\n",
      "Epoch 4/100\n",
      "71/71 [==============================] - 25s 353ms/step - loss: 1.2235 - categorical_accuracy: 0.5186 - val_loss: 0.8991 - val_categorical_accuracy: 0.7050\n",
      "Epoch 5/100\n",
      "71/71 [==============================] - 23s 325ms/step - loss: 1.1215 - categorical_accuracy: 0.5707 - val_loss: 0.8148 - val_categorical_accuracy: 0.7228\n",
      "Epoch 6/100\n",
      "71/71 [==============================] - 23s 325ms/step - loss: 1.0479 - categorical_accuracy: 0.5942 - val_loss: 0.7647 - val_categorical_accuracy: 0.7465\n",
      "Epoch 7/100\n",
      "71/71 [==============================] - 23s 325ms/step - loss: 0.9905 - categorical_accuracy: 0.6180 - val_loss: 0.7351 - val_categorical_accuracy: 0.7604\n",
      "Epoch 8/100\n",
      "71/71 [==============================] - 23s 324ms/step - loss: 0.9079 - categorical_accuracy: 0.6569 - val_loss: 0.6856 - val_categorical_accuracy: 0.7683\n",
      "Epoch 9/100\n",
      "71/71 [==============================] - 23s 325ms/step - loss: 0.9094 - categorical_accuracy: 0.6755 - val_loss: 0.6651 - val_categorical_accuracy: 0.7723\n",
      "Epoch 10/100\n",
      "71/71 [==============================] - 23s 324ms/step - loss: 0.8776 - categorical_accuracy: 0.6804 - val_loss: 0.6498 - val_categorical_accuracy: 0.7762\n",
      "Epoch 11/100\n",
      "71/71 [==============================] - 23s 324ms/step - loss: 0.8701 - categorical_accuracy: 0.6799 - val_loss: 0.6279 - val_categorical_accuracy: 0.7921\n",
      "Epoch 12/100\n",
      "71/71 [==============================] - 23s 325ms/step - loss: 0.8305 - categorical_accuracy: 0.6963 - val_loss: 0.6137 - val_categorical_accuracy: 0.7861\n",
      "Epoch 13/100\n",
      "71/71 [==============================] - 23s 324ms/step - loss: 0.8114 - categorical_accuracy: 0.6981 - val_loss: 0.5837 - val_categorical_accuracy: 0.8059\n",
      "Epoch 14/100\n",
      "71/71 [==============================] - 23s 322ms/step - loss: 0.7697 - categorical_accuracy: 0.7162 - val_loss: 0.5862 - val_categorical_accuracy: 0.8079\n",
      "Epoch 15/100\n",
      "71/71 [==============================] - 23s 321ms/step - loss: 0.7541 - categorical_accuracy: 0.7259 - val_loss: 0.5717 - val_categorical_accuracy: 0.7941\n",
      "Epoch 16/100\n",
      "71/71 [==============================] - 23s 324ms/step - loss: 0.7533 - categorical_accuracy: 0.7286 - val_loss: 0.5498 - val_categorical_accuracy: 0.8178\n",
      "Epoch 17/100\n",
      "71/71 [==============================] - 23s 324ms/step - loss: 0.7224 - categorical_accuracy: 0.7383 - val_loss: 0.5518 - val_categorical_accuracy: 0.8079\n",
      "Epoch 18/100\n",
      "71/71 [==============================] - 23s 320ms/step - loss: 0.6884 - categorical_accuracy: 0.7515 - val_loss: 0.5369 - val_categorical_accuracy: 0.8178\n",
      "Epoch 19/100\n",
      "71/71 [==============================] - 23s 324ms/step - loss: 0.6721 - categorical_accuracy: 0.7657 - val_loss: 0.5241 - val_categorical_accuracy: 0.8178\n",
      "Epoch 20/100\n",
      "71/71 [==============================] - 23s 324ms/step - loss: 0.6727 - categorical_accuracy: 0.7520 - val_loss: 0.5247 - val_categorical_accuracy: 0.8139\n",
      "Epoch 21/100\n",
      "71/71 [==============================] - 23s 319ms/step - loss: 0.6570 - categorical_accuracy: 0.7714 - val_loss: 0.5071 - val_categorical_accuracy: 0.8277\n",
      "Epoch 22/100\n",
      "71/71 [==============================] - 23s 324ms/step - loss: 0.6253 - categorical_accuracy: 0.7851 - val_loss: 0.5124 - val_categorical_accuracy: 0.8158\n",
      "Epoch 23/100\n",
      "71/71 [==============================] - 23s 320ms/step - loss: 0.6375 - categorical_accuracy: 0.7772 - val_loss: 0.5140 - val_categorical_accuracy: 0.8218\n",
      "Epoch 24/100\n",
      "71/71 [==============================] - 23s 320ms/step - loss: 0.6266 - categorical_accuracy: 0.7913 - val_loss: 0.4975 - val_categorical_accuracy: 0.8317\n",
      "Epoch 25/100\n",
      "71/71 [==============================] - 24s 340ms/step - loss: 0.6121 - categorical_accuracy: 0.7896 - val_loss: 0.4851 - val_categorical_accuracy: 0.8297\n",
      "Epoch 26/100\n",
      "71/71 [==============================] - 23s 322ms/step - loss: 0.5965 - categorical_accuracy: 0.7949 - val_loss: 0.5127 - val_categorical_accuracy: 0.8238\n",
      "Epoch 27/100\n",
      "71/71 [==============================] - 23s 318ms/step - loss: 0.5937 - categorical_accuracy: 0.7953 - val_loss: 0.4980 - val_categorical_accuracy: 0.8356\n",
      "Epoch 28/100\n",
      "71/71 [==============================] - 23s 317ms/step - loss: 0.6043 - categorical_accuracy: 0.7927 - val_loss: 0.4876 - val_categorical_accuracy: 0.8277\n",
      "Epoch 29/100\n",
      "71/71 [==============================] - 23s 317ms/step - loss: 0.5856 - categorical_accuracy: 0.7927 - val_loss: 0.4675 - val_categorical_accuracy: 0.8455\n",
      "Epoch 30/100\n",
      "71/71 [==============================] - 23s 320ms/step - loss: 0.5404 - categorical_accuracy: 0.8099 - val_loss: 0.4905 - val_categorical_accuracy: 0.8317\n",
      "Epoch 31/100\n",
      "71/71 [==============================] - 23s 318ms/step - loss: 0.5734 - categorical_accuracy: 0.8019 - val_loss: 0.4616 - val_categorical_accuracy: 0.8455\n",
      "Epoch 32/100\n",
      "71/71 [==============================] - 23s 324ms/step - loss: 0.5473 - categorical_accuracy: 0.8033 - val_loss: 0.4704 - val_categorical_accuracy: 0.8436\n",
      "Epoch 33/100\n",
      "71/71 [==============================] - 23s 318ms/step - loss: 0.5302 - categorical_accuracy: 0.8183 - val_loss: 0.4650 - val_categorical_accuracy: 0.8356\n",
      "Epoch 34/100\n",
      "71/71 [==============================] - 23s 321ms/step - loss: 0.5263 - categorical_accuracy: 0.8280 - val_loss: 0.4704 - val_categorical_accuracy: 0.8416\n",
      "Epoch 35/100\n",
      "71/71 [==============================] - 23s 325ms/step - loss: 0.5042 - categorical_accuracy: 0.8205 - val_loss: 0.4509 - val_categorical_accuracy: 0.8475\n",
      "Epoch 36/100\n",
      "71/71 [==============================] - 23s 328ms/step - loss: 0.5202 - categorical_accuracy: 0.8271 - val_loss: 0.4543 - val_categorical_accuracy: 0.8515\n",
      "Epoch 37/100\n",
      "71/71 [==============================] - 23s 321ms/step - loss: 0.5372 - categorical_accuracy: 0.8073 - val_loss: 0.4758 - val_categorical_accuracy: 0.8376\n",
      "Epoch 38/100\n",
      "71/71 [==============================] - 23s 317ms/step - loss: 0.5292 - categorical_accuracy: 0.8112 - val_loss: 0.4410 - val_categorical_accuracy: 0.8554\n",
      "Epoch 39/100\n",
      "71/71 [==============================] - 23s 322ms/step - loss: 0.4958 - categorical_accuracy: 0.8205 - val_loss: 0.4652 - val_categorical_accuracy: 0.8337\n",
      "Epoch 40/100\n",
      "71/71 [==============================] - 23s 318ms/step - loss: 0.4889 - categorical_accuracy: 0.8298 - val_loss: 0.4719 - val_categorical_accuracy: 0.8475\n",
      "Epoch 41/100\n",
      "71/71 [==============================] - 23s 317ms/step - loss: 0.4865 - categorical_accuracy: 0.8320 - val_loss: 0.4381 - val_categorical_accuracy: 0.8574\n",
      "Epoch 42/100\n",
      "71/71 [==============================] - 23s 322ms/step - loss: 0.4726 - categorical_accuracy: 0.8338 - val_loss: 0.4608 - val_categorical_accuracy: 0.8416\n",
      "Epoch 43/100\n",
      "71/71 [==============================] - 23s 318ms/step - loss: 0.4763 - categorical_accuracy: 0.8333 - val_loss: 0.4607 - val_categorical_accuracy: 0.8475\n",
      "Epoch 44/100\n",
      "71/71 [==============================] - 23s 317ms/step - loss: 0.4743 - categorical_accuracy: 0.8347 - val_loss: 0.4563 - val_categorical_accuracy: 0.8475\n",
      "Epoch 45/100\n",
      "71/71 [==============================] - 23s 317ms/step - loss: 0.4901 - categorical_accuracy: 0.8333 - val_loss: 0.4310 - val_categorical_accuracy: 0.8574\n",
      "Epoch 46/100\n",
      "71/71 [==============================] - 23s 324ms/step - loss: 0.4687 - categorical_accuracy: 0.8382 - val_loss: 0.4103 - val_categorical_accuracy: 0.8653\n",
      "Epoch 47/100\n",
      "71/71 [==============================] - 23s 321ms/step - loss: 0.4753 - categorical_accuracy: 0.8404 - val_loss: 0.4457 - val_categorical_accuracy: 0.8495\n",
      "Epoch 48/100\n",
      "71/71 [==============================] - 23s 318ms/step - loss: 0.4556 - categorical_accuracy: 0.8408 - val_loss: 0.4272 - val_categorical_accuracy: 0.8634\n",
      "Epoch 49/100\n",
      "71/71 [==============================] - 23s 317ms/step - loss: 0.4251 - categorical_accuracy: 0.8563 - val_loss: 0.4648 - val_categorical_accuracy: 0.8455\n",
      "Epoch 50/100\n",
      "71/71 [==============================] - 23s 321ms/step - loss: 0.4727 - categorical_accuracy: 0.8355 - val_loss: 0.4064 - val_categorical_accuracy: 0.8733\n",
      "Epoch 51/100\n",
      "71/71 [==============================] - 23s 322ms/step - loss: 0.4557 - categorical_accuracy: 0.8479 - val_loss: 0.4192 - val_categorical_accuracy: 0.8693\n",
      "Epoch 52/100\n",
      "71/71 [==============================] - 23s 320ms/step - loss: 0.4299 - categorical_accuracy: 0.8616 - val_loss: 0.4343 - val_categorical_accuracy: 0.8535\n",
      "Epoch 53/100\n",
      "71/71 [==============================] - 23s 320ms/step - loss: 0.4169 - categorical_accuracy: 0.8612 - val_loss: 0.4313 - val_categorical_accuracy: 0.8535\n",
      "Epoch 54/100\n",
      "71/71 [==============================] - 24s 336ms/step - loss: 0.4238 - categorical_accuracy: 0.8563 - val_loss: 0.4271 - val_categorical_accuracy: 0.8535\n",
      "Epoch 55/100\n",
      "71/71 [==============================] - 23s 319ms/step - loss: 0.4313 - categorical_accuracy: 0.8519 - val_loss: 0.4211 - val_categorical_accuracy: 0.8673\n"
     ]
    }
   ],
   "source": [
    "history = model_tl.fit(train_datagen.flow(train_imgs,train_labels_cat, seed=32, batch_size=32), epochs=100, validation_data = (test_imgs,test_labels_cat), callbacks=[callback_v5,callback_chp])"
   ]
  },
  {
   "cell_type": "markdown",
   "metadata": {
    "id": "NEt9RkAaJPjf"
   },
   "source": [
    "### Plot training results"
   ]
  },
  {
   "cell_type": "code",
   "execution_count": null,
   "metadata": {
    "colab": {
     "base_uri": "https://localhost:8080/",
     "height": 661
    },
    "id": "y0E5D8uvJPjf",
    "outputId": "3ac86aa0-c13a-464b-e387-e85d6f08d0ee"
   },
   "outputs": [],
   "source": [
    "def plot_history_results():\n",
    "  acc      = history.history['categorical_accuracy']\n",
    "  val_acc  = history.history['val_categorical_accuracy']\n",
    "  loss     = history.history['loss']\n",
    "  val_loss = history.history['val_loss']\n",
    "  epochs   = range(1,len(acc)+1) # Get number of epochs\n",
    "\n",
    "  plt.plot(epochs, acc,  label='Training accuracy')\n",
    "  plt.plot(epochs, val_acc,  label='Validation accuracy')\n",
    "  plt.title('Training and validation accuracy')\n",
    "  plt.xlabel('epoch')\n",
    "  plt.ylabel('accuracy')\n",
    "  plt.legend()\n",
    "  plt.show()\n",
    "\n",
    "  ###-----plot loss---------------\n",
    "  plt.plot(epochs,loss)\n",
    "  plt.plot(epochs,val_loss)\n",
    "  plt.title('loss vs epochs')\n",
    "  plt.ylabel('loss')\n",
    "  plt.xlabel('epoch')\n",
    "  plt.legend(['train', 'validation'], loc='upper right')\n",
    "  plt.show()\n",
    "\n",
    "  print(acc)\n",
    "  print(val_acc)\n",
    "\n",
    "  print(history.history['loss'])\n",
    "  print(history.history['val_loss'])\n",
    "\n",
    "plot_history_results()\n"
   ]
  },
  {
   "cell_type": "code",
   "execution_count": null,
   "metadata": {
    "colab": {
     "base_uri": "https://localhost:8080/"
    },
    "id": "YNHnE4VgWMP9",
    "outputId": "f9373843-7eb5-47e1-e769-c05721b1373d"
   },
   "outputs": [
    {
     "name": "stdout",
     "output_type": "stream",
     "text": [
      "71/71 - 6s - loss: 0.2344 - categorical_accuracy: 0.9275\n",
      "Accuracy on train dataset: 0.9274978041648865\n"
     ]
    }
   ],
   "source": [
    "train_loss, train_accuracy = model_tl.evaluate(train_imgs, train_labels_cat, batch_size=batch_size_n, verbose=2)\n",
    "print('Accuracy on train dataset:', train_accuracy)"
   ]
  },
  {
   "cell_type": "code",
   "execution_count": null,
   "metadata": {
    "colab": {
     "base_uri": "https://localhost:8080/"
    },
    "id": "-m6ezWndJPjg",
    "outputId": "a1652018-e2d8-4c30-9b09-f056782d9d11"
   },
   "outputs": [
    {
     "name": "stdout",
     "output_type": "stream",
     "text": [
      "16/16 - 1s - loss: 0.4211 - categorical_accuracy: 0.8673\n",
      "Accuracy on test dataset: 0.8673267364501953\n"
     ]
    }
   ],
   "source": [
    "test_loss, test_accuracy = model_tl.evaluate(test_imgs, test_labels_cat, batch_size=batch_size_n, verbose=2)\n",
    "print('Accuracy on test dataset:', test_accuracy)"
   ]
  },
  {
   "cell_type": "markdown",
   "metadata": {
    "id": "VAfnJIJYJPjg"
   },
   "source": [
    "#### Classification report"
   ]
  },
  {
   "cell_type": "code",
   "execution_count": null,
   "metadata": {
    "id": "bMvvHosPJOxQ"
   },
   "outputs": [],
   "source": [
    "#  to get a text report showing the main classification metrics for each class\n",
    "target_names = [\"Class {} ({}) :\".format(i,class_names[i]) for i in range(6)]"
   ]
  },
  {
   "cell_type": "markdown",
   "metadata": {
    "id": "IK6Iz2oNf1mQ"
   },
   "source": [
    "Train results"
   ]
  },
  {
   "cell_type": "code",
   "execution_count": null,
   "metadata": {
    "id": "oU5A5HzTf53N"
   },
   "outputs": [],
   "source": [
    "#get the predictions for the test data\n",
    "y_train_pred = np.argmax(model_tl.predict(train_imgs), axis=-1)\n",
    "y_train_true = train_labels"
   ]
  },
  {
   "cell_type": "code",
   "execution_count": null,
   "metadata": {
    "colab": {
     "base_uri": "https://localhost:8080/"
    },
    "id": "6cJaSnfqrdh6",
    "outputId": "f77bcb1b-1380-4da3-9155-62af5cae45a7"
   },
   "outputs": [
    {
     "name": "stdout",
     "output_type": "stream",
     "text": [
      "Correct predicted classes: 2098\n",
      "Incorrect predicted classes: 164\n"
     ]
    }
   ],
   "source": [
    "correct=np.nonzero(y_train_pred==y_train_true)[0]\n",
    "incorrect=np.nonzero(y_train_pred!=y_train_true)[0]\n",
    "\n",
    "print(\"Correct predicted classes:\",correct.shape[0])\n",
    "print(\"Incorrect predicted classes:\",incorrect.shape[0])"
   ]
  },
  {
   "cell_type": "code",
   "execution_count": null,
   "metadata": {
    "colab": {
     "base_uri": "https://localhost:8080/"
    },
    "id": "zW2bhFbogLht",
    "outputId": "0590cd65-87bb-4402-e1c4-ddce833a2e22"
   },
   "outputs": [
    {
     "name": "stdout",
     "output_type": "stream",
     "text": [
      "                       precision    recall  f1-score   support\n",
      "\n",
      "    Class 0 (trash) :       0.90      0.98      0.94       357\n",
      "    Class 1 (glass) :       0.93      0.89      0.91       351\n",
      "    Class 2 (metal) :       0.88      0.96      0.92       348\n",
      "    Class 3 (paper) :       0.95      0.93      0.94       494\n",
      "  Class 4 (plastic) :       0.94      0.87      0.90       370\n",
      "Class 5 (cardboard) :       0.97      0.94      0.95       342\n",
      "\n",
      "             accuracy                           0.93      2262\n",
      "            macro avg       0.93      0.93      0.93      2262\n",
      "         weighted avg       0.93      0.93      0.93      2262\n",
      "\n"
     ]
    }
   ],
   "source": [
    "print(classification_report(y_train_true, y_train_pred, target_names=target_names))"
   ]
  },
  {
   "cell_type": "markdown",
   "metadata": {
    "id": "tnUsCIGfgTUa"
   },
   "source": [
    "Test results"
   ]
  },
  {
   "cell_type": "code",
   "execution_count": null,
   "metadata": {
    "id": "G_0FylurJrXK"
   },
   "outputs": [],
   "source": [
    "#get the predictions for the test data\n",
    "y_test_pred  = np.argmax(model_tl.predict(test_imgs), axis=-1)\n",
    "# Get true labels \n",
    "y_test_true = test_labels"
   ]
  },
  {
   "cell_type": "code",
   "execution_count": null,
   "metadata": {
    "colab": {
     "base_uri": "https://localhost:8080/"
    },
    "id": "-ujRP_RmJPjh",
    "outputId": "ea9f2177-7622-470c-8722-27dec99c7301"
   },
   "outputs": [
    {
     "name": "stdout",
     "output_type": "stream",
     "text": [
      "Correct predicted classes: 438\n",
      "Incorrect predicted classes: 67\n"
     ]
    }
   ],
   "source": [
    "correct=np.nonzero(y_test_pred==y_test_true)[0]\n",
    "incorrect=np.nonzero(y_test_pred!=y_test_true)[0]\n",
    "\n",
    "print(\"Correct predicted classes:\",correct.shape[0])\n",
    "print(\"Incorrect predicted classes:\",incorrect.shape[0])"
   ]
  },
  {
   "cell_type": "code",
   "execution_count": null,
   "metadata": {
    "colab": {
     "base_uri": "https://localhost:8080/"
    },
    "id": "68kD2Kf6SGpF",
    "outputId": "d39253fa-72b8-4512-bde9-9861ad845e6f"
   },
   "outputs": [
    {
     "name": "stdout",
     "output_type": "stream",
     "text": [
      "                       precision    recall  f1-score   support\n",
      "\n",
      "    Class 0 (trash) :       0.95      0.90      0.92        20\n",
      "    Class 1 (glass) :       0.94      0.77      0.85       150\n",
      "    Class 2 (metal) :       0.73      0.90      0.81        62\n",
      "    Class 3 (paper) :       0.91      0.92      0.92       100\n",
      "  Class 4 (plastic) :       0.83      0.93      0.88       112\n",
      "Class 5 (cardboard) :       0.87      0.87      0.87        61\n",
      "\n",
      "             accuracy                           0.87       505\n",
      "            macro avg       0.87      0.88      0.87       505\n",
      "         weighted avg       0.88      0.87      0.87       505\n",
      "\n"
     ]
    }
   ],
   "source": [
    "print(classification_report(y_test_true, y_test_pred, target_names=target_names))"
   ]
  },
  {
   "cell_type": "markdown",
   "metadata": {
    "id": "yEmK2T_wJPjh"
   },
   "source": [
    "#### Confusion matrix"
   ]
  },
  {
   "cell_type": "code",
   "execution_count": null,
   "metadata": {
    "colab": {
     "base_uri": "https://localhost:8080/",
     "height": 500
    },
    "id": "j-vcTCw6vRnb",
    "outputId": "4805a083-1793-420d-f2e3-a53fb4de5db9"
   },
   "outputs": [
    {
     "data": {
      "text/plain": [
       "<matplotlib.axes._subplots.AxesSubplot at 0x7f481bb38190>"
      ]
     },
     "execution_count": 47,
     "metadata": {
      "tags": []
     },
     "output_type": "execute_result"
    },
    {
     "data": {
      "image/png": "[encoded data removed]",
      "text/plain": [
       "<Figure size 576x576 with 2 Axes>"
      ]
     },
     "metadata": {
      "needs_background": "light",
      "tags": []
     },
     "output_type": "display_data"
    }
   ],
   "source": [
    "conf_train = confusion_matrix(y_train_true, y_train_pred)\n",
    "fig, ax = plt.subplots(figsize=(8,8))\n",
    "sns.heatmap(conf_train, annot=True, fmt='.1f', xticklabels=class_names, yticklabels=class_names, cmap='coolwarm', linewidths=.5, ax=ax)"
   ]
  },
  {
   "cell_type": "code",
   "execution_count": null,
   "metadata": {
    "colab": {
     "base_uri": "https://localhost:8080/",
     "height": 500
    },
    "id": "DstYijbsJPjh",
    "outputId": "3efb91a5-0452-4c9b-b7d7-25611205d5ea"
   },
   "outputs": [],
   "source": [
    "conf = confusion_matrix(y_test_true, y_test_pred)\n",
    "fig, ax = plt.subplots(figsize=(8,8)) \n",
    "sns.heatmap(conf, annot=True, fmt='.1f', xticklabels=class_names, yticklabels=class_names, cmap='coolwarm', linewidths=.5, ax=ax)\n",
    "\n"
   ]
  }
 ],
 "metadata": {
  "accelerator": "GPU",
  "colab": {
   "collapsed_sections": [],
   "name": "notebook-ds-waste-classif-model.ipynb",
   "provenance": []
  },
  "kernelspec": {
   "display_name": "Python 3 (ipykernel)",
   "language": "python",
   "name": "python3"
  },
  "language_info": {
   "codemirror_mode": {
    "name": "ipython",
    "version": 3
   },
   "file_extension": ".py",
   "mimetype": "text/x-python",
   "name": "python",
   "nbconvert_exporter": "python",
   "pygments_lexer": "ipython3",
   "version": "3.7.1"
  }
 },
 "nbformat": 4,
 "nbformat_minor": 1
}
